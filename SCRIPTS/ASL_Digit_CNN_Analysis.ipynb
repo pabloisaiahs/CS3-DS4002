{
  "nbformat": 4,
  "nbformat_minor": 0,
  "metadata": {
    "colab": {
      "provenance": []
    },
    "kernelspec": {
      "name": "python3",
      "display_name": "Python 3"
    },
    "language_info": {
      "name": "python"
    }
  },
  "cells": [
    {
      "cell_type": "code",
      "source": [
        "# Step 1: Mount Google Drive\n",
        "from google.colab import drive\n",
        "drive.mount('/content/drive')"
      ],
      "metadata": {
        "colab": {
          "base_uri": "https://localhost:8080/"
        },
        "id": "JPbIaempVowS",
        "outputId": "937b3d3c-69de-40b7-f9c4-36a2621eb12f"
      },
      "execution_count": null,
      "outputs": [
        {
          "output_type": "stream",
          "name": "stdout",
          "text": [
            "Drive already mounted at /content/drive; to attempt to forcibly remount, call drive.mount(\"/content/drive\", force_remount=True).\n"
          ]
        }
      ]
    },
    {
      "cell_type": "code",
      "execution_count": null,
      "metadata": {
        "id": "81uD18X8Q25t"
      },
      "outputs": [],
      "source": [
        "import os\n",
        "import glob\n",
        "import numpy as np\n",
        "import matplotlib.pyplot as plt\n",
        "from tensorflow.keras.preprocessing.image import load_img, img_to_array\n",
        "from sklearn.model_selection import train_test_split\n",
        "from sklearn.metrics import confusion_matrix, classification_report\n",
        "\n",
        "import tensorflow as tf\n",
        "from tensorflow.keras.models import Sequential\n",
        "from tensorflow.keras.layers import Conv2D, MaxPooling2D, Dropout, Flatten, Dense\n",
        "from tensorflow.keras.utils import to_categorical"
      ]
    },
    {
      "cell_type": "code",
      "source": [
        "# Step 3: Set Parameters and Load Data\n",
        "IMG_SIZE = 64\n",
        "NUM_CLASSES = 10\n",
        "\n",
        "# 👇 This matches your actual folder name\n",
        "DATASET_PATH = \"/content/drive/MyDrive/Sign-Language-Digits-Dataset/Dataset\"\n",
        "\n",
        "data = []\n",
        "labels = []\n",
        "\n",
        "for digit in range(NUM_CLASSES):\n",
        "    folder_path = os.path.join(DATASET_PATH, str(digit))\n",
        "    image_files = glob.glob(os.path.join(folder_path, \"*.JPG\"))\n",
        "    for file in image_files:\n",
        "        img = load_img(file, target_size=(IMG_SIZE, IMG_SIZE))\n",
        "        img_array = img_to_array(img) / 255.0\n",
        "        data.append(img_array)\n",
        "        labels.append(digit)\n",
        "\n",
        "X = np.array(data)\n",
        "y = to_categorical(np.array(labels), NUM_CLASSES)"
      ],
      "metadata": {
        "id": "5BVMcC5lQ-Xx"
      },
      "execution_count": null,
      "outputs": []
    },
    {
      "cell_type": "code",
      "source": [
        "# Step 4: Train-Test Split\n",
        "X_train, X_test, y_train, y_test = train_test_split(X, y, test_size=0.25, random_state=42)\n"
      ],
      "metadata": {
        "id": "RkZqhORVRGfs"
      },
      "execution_count": null,
      "outputs": []
    },
    {
      "cell_type": "code",
      "source": [
        "# Step 5: Build CNN\n",
        "model = Sequential([\n",
        "    Conv2D(32, (3, 3), activation='relu', input_shape=(IMG_SIZE, IMG_SIZE, 3)),\n",
        "    MaxPooling2D(2, 2),\n",
        "    Dropout(0.25),\n",
        "\n",
        "    Conv2D(64, (3, 3), activation='relu'),\n",
        "    MaxPooling2D(2, 2),\n",
        "    Dropout(0.25),\n",
        "\n",
        "    Flatten(),\n",
        "    Dense(128, activation='relu'),\n",
        "    Dropout(0.5),\n",
        "    Dense(NUM_CLASSES, activation='softmax')\n",
        "])\n",
        "\n",
        "model.compile(optimizer='adam',\n",
        "              loss='categorical_crossentropy',\n",
        "              metrics=['accuracy'])"
      ],
      "metadata": {
        "id": "XzAy_HedRIXu",
        "colab": {
          "base_uri": "https://localhost:8080/"
        },
        "outputId": "c1355cca-86e7-4bd6-94e2-e0ceb0b58124"
      },
      "execution_count": null,
      "outputs": [
        {
          "output_type": "stream",
          "name": "stderr",
          "text": [
            "/usr/local/lib/python3.11/dist-packages/keras/src/layers/convolutional/base_conv.py:107: UserWarning: Do not pass an `input_shape`/`input_dim` argument to a layer. When using Sequential models, prefer using an `Input(shape)` object as the first layer in the model instead.\n",
            "  super().__init__(activity_regularizer=activity_regularizer, **kwargs)\n"
          ]
        }
      ]
    },
    {
      "cell_type": "code",
      "source": [
        "# Step 5: Build CNN\n",
        "model = Sequential([\n",
        "    Conv2D(32, (3, 3), activation='relu', input_shape=(IMG_SIZE, IMG_SIZE, 3)),\n",
        "    MaxPooling2D(2, 2),\n",
        "    Dropout(0.25),\n",
        "\n",
        "    Conv2D(64, (3, 3), activation='relu'),\n",
        "    MaxPooling2D(2, 2),\n",
        "    Dropout(0.25),\n",
        "\n",
        "    Flatten(),\n",
        "    Dense(128, activation='relu'),\n",
        "    Dropout(0.5),\n",
        "    Dense(NUM_CLASSES, activation='softmax')\n",
        "])\n",
        "\n",
        "model.compile(optimizer='adam',\n",
        "              loss='categorical_crossentropy',\n",
        "              metrics=['accuracy'])"
      ],
      "metadata": {
        "id": "5UgwpDLmXaEI"
      },
      "execution_count": null,
      "outputs": []
    },
    {
      "cell_type": "code",
      "source": [
        "# Step 6: Train the Model\n",
        "history = model.fit(X_train, y_train, epochs=15, batch_size=32, validation_split=0.2)"
      ],
      "metadata": {
        "colab": {
          "base_uri": "https://localhost:8080/"
        },
        "id": "3rwzzb7AXbmL",
        "outputId": "98561db8-6280-4a73-c59a-65aa82454776"
      },
      "execution_count": null,
      "outputs": [
        {
          "output_type": "stream",
          "name": "stdout",
          "text": [
            "Epoch 1/15\n",
            "\u001b[1m39/39\u001b[0m \u001b[32m━━━━━━━━━━━━━━━━━━━━\u001b[0m\u001b[37m\u001b[0m \u001b[1m12s\u001b[0m 209ms/step - accuracy: 0.1044 - loss: 2.4508 - val_accuracy: 0.1000 - val_loss: 2.3024\n",
            "Epoch 2/15\n",
            "\u001b[1m39/39\u001b[0m \u001b[32m━━━━━━━━━━━━━━━━━━━━\u001b[0m\u001b[37m\u001b[0m \u001b[1m8s\u001b[0m 207ms/step - accuracy: 0.1222 - loss: 2.3002 - val_accuracy: 0.1645 - val_loss: 2.2974\n",
            "Epoch 3/15\n",
            "\u001b[1m39/39\u001b[0m \u001b[32m━━━━━━━━━━━━━━━━━━━━\u001b[0m\u001b[37m\u001b[0m \u001b[1m8s\u001b[0m 167ms/step - accuracy: 0.1657 - loss: 2.2693 - val_accuracy: 0.3194 - val_loss: 2.0618\n",
            "Epoch 4/15\n",
            "\u001b[1m39/39\u001b[0m \u001b[32m━━━━━━━━━━━━━━━━━━━━\u001b[0m\u001b[37m\u001b[0m \u001b[1m12s\u001b[0m 207ms/step - accuracy: 0.3056 - loss: 1.9414 - val_accuracy: 0.6194 - val_loss: 1.3575\n",
            "Epoch 5/15\n",
            "\u001b[1m39/39\u001b[0m \u001b[32m━━━━━━━━━━━━━━━━━━━━\u001b[0m\u001b[37m\u001b[0m \u001b[1m9s\u001b[0m 242ms/step - accuracy: 0.4999 - loss: 1.3915 - val_accuracy: 0.6710 - val_loss: 1.0610\n",
            "Epoch 6/15\n",
            "\u001b[1m39/39\u001b[0m \u001b[32m━━━━━━━━━━━━━━━━━━━━\u001b[0m\u001b[37m\u001b[0m \u001b[1m7s\u001b[0m 161ms/step - accuracy: 0.6046 - loss: 1.1517 - val_accuracy: 0.7613 - val_loss: 0.8891\n",
            "Epoch 7/15\n",
            "\u001b[1m39/39\u001b[0m \u001b[32m━━━━━━━━━━━━━━━━━━━━\u001b[0m\u001b[37m\u001b[0m \u001b[1m11s\u001b[0m 183ms/step - accuracy: 0.6253 - loss: 1.0795 - val_accuracy: 0.7935 - val_loss: 0.7768\n",
            "Epoch 8/15\n",
            "\u001b[1m39/39\u001b[0m \u001b[32m━━━━━━━━━━━━━━━━━━━━\u001b[0m\u001b[37m\u001b[0m \u001b[1m11s\u001b[0m 208ms/step - accuracy: 0.6579 - loss: 0.9219 - val_accuracy: 0.8065 - val_loss: 0.6535\n",
            "Epoch 9/15\n",
            "\u001b[1m39/39\u001b[0m \u001b[32m━━━━━━━━━━━━━━━━━━━━\u001b[0m\u001b[37m\u001b[0m \u001b[1m9s\u001b[0m 166ms/step - accuracy: 0.6812 - loss: 0.8645 - val_accuracy: 0.8194 - val_loss: 0.6262\n",
            "Epoch 10/15\n",
            "\u001b[1m39/39\u001b[0m \u001b[32m━━━━━━━━━━━━━━━━━━━━\u001b[0m\u001b[37m\u001b[0m \u001b[1m10s\u001b[0m 167ms/step - accuracy: 0.6950 - loss: 0.7712 - val_accuracy: 0.8323 - val_loss: 0.5453\n",
            "Epoch 11/15\n",
            "\u001b[1m39/39\u001b[0m \u001b[32m━━━━━━━━━━━━━━━━━━━━\u001b[0m\u001b[37m\u001b[0m \u001b[1m10s\u001b[0m 165ms/step - accuracy: 0.7120 - loss: 0.7414 - val_accuracy: 0.8484 - val_loss: 0.5372\n",
            "Epoch 12/15\n",
            "\u001b[1m39/39\u001b[0m \u001b[32m━━━━━━━━━━━━━━━━━━━━\u001b[0m\u001b[37m\u001b[0m \u001b[1m8s\u001b[0m 216ms/step - accuracy: 0.7338 - loss: 0.7042 - val_accuracy: 0.8581 - val_loss: 0.4796\n",
            "Epoch 13/15\n",
            "\u001b[1m39/39\u001b[0m \u001b[32m━━━━━━━━━━━━━━━━━━━━\u001b[0m\u001b[37m\u001b[0m \u001b[1m8s\u001b[0m 163ms/step - accuracy: 0.7877 - loss: 0.5991 - val_accuracy: 0.8645 - val_loss: 0.4609\n",
            "Epoch 14/15\n",
            "\u001b[1m39/39\u001b[0m \u001b[32m━━━━━━━━━━━━━━━━━━━━\u001b[0m\u001b[37m\u001b[0m \u001b[1m10s\u001b[0m 167ms/step - accuracy: 0.7622 - loss: 0.5839 - val_accuracy: 0.8613 - val_loss: 0.4516\n",
            "Epoch 15/15\n",
            "\u001b[1m39/39\u001b[0m \u001b[32m━━━━━━━━━━━━━━━━━━━━\u001b[0m\u001b[37m\u001b[0m \u001b[1m12s\u001b[0m 201ms/step - accuracy: 0.8073 - loss: 0.5351 - val_accuracy: 0.8516 - val_loss: 0.4400\n"
          ]
        }
      ]
    },
    {
      "cell_type": "code",
      "source": [
        "# Step 7: Evaluate the Model\n",
        "test_loss, test_acc = model.evaluate(X_test, y_test)\n",
        "print(f\"\\n✅ Test Accuracy: {test_acc:.4f}\")"
      ],
      "metadata": {
        "colab": {
          "base_uri": "https://localhost:8080/"
        },
        "id": "NJyicvrBXco2",
        "outputId": "40a7eb23-ba61-4d3a-89e1-26fe3e1f08bf"
      },
      "execution_count": null,
      "outputs": [
        {
          "output_type": "stream",
          "name": "stdout",
          "text": [
            "\u001b[1m17/17\u001b[0m \u001b[32m━━━━━━━━━━━━━━━━━━━━\u001b[0m\u001b[37m\u001b[0m \u001b[1m1s\u001b[0m 37ms/step - accuracy: 0.8610 - loss: 0.4219\n",
            "\n",
            "✅ Test Accuracy: 0.8566\n"
          ]
        }
      ]
    },
    {
      "cell_type": "code",
      "source": [
        "# Step 8: Confusion Matrix and Report\n",
        "y_pred = model.predict(X_test)\n",
        "y_pred_classes = np.argmax(y_pred, axis=1)\n",
        "y_true = np.argmax(y_test, axis=1)\n",
        "\n",
        "print(\"\\nConfusion Matrix:\")\n",
        "print(confusion_matrix(y_true, y_pred_classes))\n",
        "\n",
        "print(\"\\nClassification Report:\")\n",
        "print(classification_report(y_true, y_pred_classes))"
      ],
      "metadata": {
        "colab": {
          "base_uri": "https://localhost:8080/"
        },
        "id": "GRj2HkO-Y-QZ",
        "outputId": "9be71e96-1654-4155-c0a3-f273bc82384d"
      },
      "execution_count": null,
      "outputs": [
        {
          "output_type": "stream",
          "name": "stdout",
          "text": [
            "\u001b[1m17/17\u001b[0m \u001b[32m━━━━━━━━━━━━━━━━━━━━\u001b[0m\u001b[37m\u001b[0m \u001b[1m2s\u001b[0m 120ms/step\n",
            "\n",
            "Confusion Matrix:\n",
            "[[43  0  0  0  0  0  0  2  2  0]\n",
            " [ 1 54  4  0  0  0  0  1  0  0]\n",
            " [ 0  1 57  1  0  0  1  2  0  0]\n",
            " [ 0  0  1 50  0  1  0  0  0  0]\n",
            " [ 0  0  1  0 35  0  6  1  1  0]\n",
            " [ 0  0  0  1  1 43  0  0  0  0]\n",
            " [ 0  0  9  0  2  0 37  2  0  0]\n",
            " [ 1  0  1  0  4  0  4 42  0  0]\n",
            " [ 0  0  1  0  5  0  1  7 38  2]\n",
            " [ 0  1  0  0  1  1  0  0  4 43]]\n",
            "\n",
            "Classification Report:\n",
            "              precision    recall  f1-score   support\n",
            "\n",
            "           0       0.96      0.91      0.93        47\n",
            "           1       0.96      0.90      0.93        60\n",
            "           2       0.77      0.92      0.84        62\n",
            "           3       0.96      0.96      0.96        52\n",
            "           4       0.73      0.80      0.76        44\n",
            "           5       0.96      0.96      0.96        45\n",
            "           6       0.76      0.74      0.75        50\n",
            "           7       0.74      0.81      0.77        52\n",
            "           8       0.84      0.70      0.77        54\n",
            "           9       0.96      0.86      0.91        50\n",
            "\n",
            "    accuracy                           0.86       516\n",
            "   macro avg       0.86      0.86      0.86       516\n",
            "weighted avg       0.86      0.86      0.86       516\n",
            "\n"
          ]
        }
      ]
    },
    {
      "cell_type": "code",
      "source": [
        "# Step 9: Plot Accuracy Graph\n",
        "plt.plot(history.history['accuracy'], label='Train Acc')\n",
        "plt.plot(history.history['val_accuracy'], label='Val Acc')\n",
        "plt.title('Training and Validation Accuracy')\n",
        "plt.xlabel('Epoch')\n",
        "plt.ylabel('Accuracy')\n",
        "plt.legend()\n",
        "plt.grid(True)\n",
        "plt.show()"
      ],
      "metadata": {
        "colab": {
          "base_uri": "https://localhost:8080/",
          "height": 472
        },
        "id": "wN_VtdWoY-px",
        "outputId": "e50952dc-1f4d-4f95-c5f8-5f7b0211139e"
      },
      "execution_count": null,
      "outputs": [
        {
          "output_type": "display_data",
          "data": {
            "text/plain": [
              "<Figure size 640x480 with 1 Axes>"
            ],
            "image/png": "[encoded data removed]"
          },
          "metadata": {}
        }
      ]
    },
    {
      "cell_type": "code",
      "source": [
        "model.save('/content/drive/MyDrive/asl_digit_model.h5')"
      ],
      "metadata": {
        "id": "hgLbYUw8ZJor",
        "colab": {
          "base_uri": "https://localhost:8080/"
        },
        "outputId": "2da7e44c-cb04-4b69-bb25-efda6b447e78"
      },
      "execution_count": 14,
      "outputs": [
        {
          "output_type": "stream",
          "name": "stderr",
          "text": [
            "WARNING:absl:You are saving your model as an HDF5 file via `model.save()` or `keras.saving.save_model(model)`. This file format is considered legacy. We recommend using instead the native Keras format, e.g. `model.save('my_model.keras')` or `keras.saving.save_model(model, 'my_model.keras')`. \n"
          ]
        }
      ]
    },
    {
      "cell_type": "code",
      "source": [],
      "metadata": {
        "id": "Fm6JnWz5dk7N"
      },
      "execution_count": null,
      "outputs": []
    }
  ]
}